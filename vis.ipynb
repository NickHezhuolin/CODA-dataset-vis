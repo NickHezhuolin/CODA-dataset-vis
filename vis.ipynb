{
 "cells": [
  {
   "cell_type": "code",
   "execution_count": 48,
   "metadata": {},
   "outputs": [
    {
     "data": {
      "text/plain": [
       "({'image_id': 1,\n",
       "  'category_id': 19,\n",
       "  'bbox': [1796.08, 792.36, 56.41, 223.08],\n",
       "  'area': 12583.9428,\n",
       "  'id': 1,\n",
       "  'iscrowd': 0},\n",
       " {'file_name': '000001_1616005007200.jpg',\n",
       "  'id': 1,\n",
       "  'height': 1020,\n",
       "  'width': 1920,\n",
       "  'period': 'day',\n",
       "  'weather': 'sunny'},\n",
       " {'supercategory': 'traffic_facility', 'id': 19, 'name': 'bollard'})"
      ]
     },
     "execution_count": 48,
     "metadata": {},
     "output_type": "execute_result"
    }
   ],
   "source": [
    "import json\n",
    "import cv2\n",
    "\n",
    "data_folder = r\"C:\\Users\\Administrator\\Desktop\\CODA\\sample\\images\"\n",
    "corner_case_json_path = r\"C:\\Users\\Administrator\\Desktop\\CODA\\sample\\corner_case.json\"\n",
    "save_folder_path = r\"C:\\Users\\Administrator\\Desktop\\CODA\\res\"\n",
    "\n",
    "with open(corner_case_json_path, 'r', encoding='utf8') as f:\n",
    "    row_data = json.load(f)\n",
    "\n",
    "categories = row_data[\"categories\"]\n",
    "images = row_data[\"images\"]\n",
    "annotations = row_data[\"annotations\"]\n",
    "\n",
    "annotations[0], images[0],categories[18]"
   ]
  },
  {
   "cell_type": "markdown",
   "metadata": {},
   "source": [
    "将所有的gt_vis结果打到图片上"
   ]
  },
  {
   "cell_type": "code",
   "execution_count": 46,
   "metadata": {},
   "outputs": [],
   "source": [
    "for id in range(len(images)):\n",
    "    img_id = id\n",
    "\n",
    "    img_path = data_folder + '\\\\' + images[img_id-1][\"file_name\"]\n",
    "    img = cv2.imread(img_path)\n",
    "\n",
    "    for item in annotations:\n",
    "        if item[\"image_id\"] == img_id:\n",
    "            box = item[\"bbox\"]\n",
    "            box_color = (255,0,255)   \n",
    "            cv2.rectangle(img, (int(box[0]), int(box[1])), (int(box[0]+box[2]), int(box[1]+box[3])), color=box_color, thickness=2)\n",
    "\n",
    "    sava_img = save_folder_path + '\\\\' + str(img_id) +\"-\" + images[img_id-1][\"period\"] + \"-\" + images[img_id-1][\"weather\"] + \".jpg\"\n",
    "    cv2.imwrite(sava_img, img)"
   ]
  }
 ],
 "metadata": {
  "kernelspec": {
   "display_name": "Python 3.9.13 ('CODA-vis-tools')",
   "language": "python",
   "name": "python3"
  },
  "language_info": {
   "codemirror_mode": {
    "name": "ipython",
    "version": 3
   },
   "file_extension": ".py",
   "mimetype": "text/x-python",
   "name": "python",
   "nbconvert_exporter": "python",
   "pygments_lexer": "ipython3",
   "version": "3.9.13"
  },
  "orig_nbformat": 4,
  "vscode": {
   "interpreter": {
    "hash": "77a383b6e7b53fe045fe89b2f72335f716becbc66e9f5e7dba28e918b9f96f75"
   }
  }
 },
 "nbformat": 4,
 "nbformat_minor": 2
}
